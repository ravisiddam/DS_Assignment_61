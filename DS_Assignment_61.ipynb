{
 "cells": [
  {
   "cell_type": "code",
   "execution_count": 4,
   "metadata": {},
   "outputs": [
    {
     "data": {
      "text/plain": [
       "array([[  256,    64,    16,     4],\n",
       "       [ 1296,   216,    36,     6],\n",
       "       [ 4096,   512,    64,     8],\n",
       "       [14641,  1331,   121,    11]])"
      ]
     },
     "execution_count": 4,
     "metadata": {},
     "output_type": "execute_result"
    }
   ],
   "source": [
    "import numpy as np\n",
    "def myvander(target,increasing):\n",
    " #   a = [2,5,7,9]\n",
    "    k = len(target) + 1\n",
    "    v = []\n",
    " # build an array to know the no of columns & element to be powered\n",
    "# ascending order\n",
    "    colasc = np.arange(1,k,1)\n",
    "# descending order\n",
    "    coldsc = colasc[::-1]\n",
    "# Based n Incresing argument preparing the order    \n",
    "    if increasing == False:\n",
    "        for x in target:\n",
    "            v.append([x**m for m in coldsc])\n",
    "    else:\n",
    "        for x in target:\n",
    "            v.append([x**m for m in colasc])\n",
    "\n",
    "    \n",
    "    return np.vstack(v)\n",
    "    \n",
    "myvander([4,6,8,11],False)"
   ]
  },
  {
   "cell_type": "code",
   "execution_count": 5,
   "metadata": {},
   "outputs": [
    {
     "data": {
      "text/plain": [
       "array([[    4,    16,    64,   256],\n",
       "       [    6,    36,   216,  1296],\n",
       "       [    8,    64,   512,  4096],\n",
       "       [   11,   121,  1331, 14641]])"
      ]
     },
     "execution_count": 5,
     "metadata": {},
     "output_type": "execute_result"
    }
   ],
   "source": [
    "myvander([4,6,8,11],True)"
   ]
  },
  {
   "cell_type": "code",
   "execution_count": null,
   "metadata": {},
   "outputs": [],
   "source": []
  }
 ],
 "metadata": {
  "kernelspec": {
   "display_name": "Python 3",
   "language": "python",
   "name": "python3"
  },
  "language_info": {
   "codemirror_mode": {
    "name": "ipython",
    "version": 3
   },
   "file_extension": ".py",
   "mimetype": "text/x-python",
   "name": "python",
   "nbconvert_exporter": "python",
   "pygments_lexer": "ipython3",
   "version": "3.6.5"
  }
 },
 "nbformat": 4,
 "nbformat_minor": 2
}
